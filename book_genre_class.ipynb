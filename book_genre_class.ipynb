{
 "cells": [
  {
   "cell_type": "code",
   "execution_count": 1,
   "metadata": {
    "executionInfo": {
     "elapsed": 351,
     "status": "ok",
     "timestamp": 1738351708732,
     "user": {
      "displayName": "Shahbaz Ahmed",
      "userId": "03124141683529273044"
     },
     "user_tz": -300
    },
    "id": "RSvXFRYTeTHM"
   },
   "outputs": [],
   "source": [
    "import numpy as np\n",
    "import pandas as pd"
   ]
  },
  {
   "cell_type": "code",
   "execution_count": 3,
   "metadata": {
    "executionInfo": {
     "elapsed": 572,
     "status": "ok",
     "timestamp": 1738351709716,
     "user": {
      "displayName": "Shahbaz Ahmed",
      "userId": "03124141683529273044"
     },
     "user_tz": -300
    },
    "id": "IqDRbXW7eknP"
   },
   "outputs": [],
   "source": [
    "url = 'Data_set/merged_df_dataset.csv'"
   ]
  },
  {
   "cell_type": "code",
   "execution_count": 4,
   "metadata": {
    "executionInfo": {
     "elapsed": 7,
     "status": "ok",
     "timestamp": 1738351709717,
     "user": {
      "displayName": "Shahbaz Ahmed",
      "userId": "03124141683529273044"
     },
     "user_tz": -300
    },
    "id": "fGk1crzDeuwj"
   },
   "outputs": [],
   "source": [
    "df = pd.read_csv(url)"
   ]
  },
  {
   "cell_type": "code",
   "execution_count": 5,
   "metadata": {
    "colab": {
     "base_uri": "https://localhost:8080/",
     "height": 625
    },
    "executionInfo": {
     "elapsed": 673,
     "status": "ok",
     "timestamp": 1738351710384,
     "user": {
      "displayName": "Shahbaz Ahmed",
      "userId": "03124141683529273044"
     },
     "user_tz": -300
    },
    "id": "ynrtEnuceyfk",
    "outputId": "7ddf42ea-7307-4b48-f26d-5c10558dbd68"
   },
   "outputs": [
    {
     "data": {
      "text/html": [
       "<div>\n",
       "<style scoped>\n",
       "    .dataframe tbody tr th:only-of-type {\n",
       "        vertical-align: middle;\n",
       "    }\n",
       "\n",
       "    .dataframe tbody tr th {\n",
       "        vertical-align: top;\n",
       "    }\n",
       "\n",
       "    .dataframe thead th {\n",
       "        text-align: right;\n",
       "    }\n",
       "</style>\n",
       "<table border=\"1\" class=\"dataframe\">\n",
       "  <thead>\n",
       "    <tr style=\"text-align: right;\">\n",
       "      <th></th>\n",
       "      <th>ISBN</th>\n",
       "      <th>Title</th>\n",
       "      <th>Book-Author</th>\n",
       "      <th>Year-Of-Publication</th>\n",
       "      <th>Publisher_x</th>\n",
       "      <th>Image-URL-L</th>\n",
       "      <th>Authors</th>\n",
       "      <th>Description</th>\n",
       "      <th>Category</th>\n",
       "      <th>Genre</th>\n",
       "      <th>Publisher_y</th>\n",
       "      <th>Publish Date</th>\n",
       "      <th>Price</th>\n",
       "    </tr>\n",
       "  </thead>\n",
       "  <tbody>\n",
       "    <tr>\n",
       "      <th>0</th>\n",
       "      <td>393045218</td>\n",
       "      <td>The Mummies of Urumchi</td>\n",
       "      <td>E. J. W. Barber</td>\n",
       "      <td>1999</td>\n",
       "      <td>W. W. Norton &amp;amp; Company</td>\n",
       "      <td>http://images.amazon.com/images/P/0393045218.0...</td>\n",
       "      <td>By Barber, Elizabeth Wayland</td>\n",
       "      <td>A fascinating exploration of the mysterious, p...</td>\n",
       "      <td>Social Science , Archaeology</td>\n",
       "      <td>Social Science</td>\n",
       "      <td>W W Norton &amp; Co Inc</td>\n",
       "      <td>Friday, January 1, 1999</td>\n",
       "      <td>Price Starting at $8.79</td>\n",
       "    </tr>\n",
       "    <tr>\n",
       "      <th>1</th>\n",
       "      <td>399135782</td>\n",
       "      <td>The Kitchen God's Wife</td>\n",
       "      <td>Amy Tan</td>\n",
       "      <td>1991</td>\n",
       "      <td>Putnam Pub Group</td>\n",
       "      <td>http://images.amazon.com/images/P/0399135782.0...</td>\n",
       "      <td>By Tan, Amy</td>\n",
       "      <td>With the same narrative skills and evocative p...</td>\n",
       "      <td>Literary</td>\n",
       "      <td>Literary</td>\n",
       "      <td>Vintage</td>\n",
       "      <td>Monday, November 1, 1993</td>\n",
       "      <td>Price Starting at $4.99</td>\n",
       "    </tr>\n",
       "    <tr>\n",
       "      <th>2</th>\n",
       "      <td>425176428</td>\n",
       "      <td>What If?: The World's Foremost Military Histor...</td>\n",
       "      <td>Robert Cowley</td>\n",
       "      <td>2000</td>\n",
       "      <td>Berkley Publishing Group</td>\n",
       "      <td>http://images.amazon.com/images/P/0425176428.0...</td>\n",
       "      <td>By Cowley, Robert (EDT) and Ambrose, Stephen E...</td>\n",
       "      <td>Essays by respected military historians, inclu...</td>\n",
       "      <td>History , Military , Strategy</td>\n",
       "      <td>History</td>\n",
       "      <td>Berkley</td>\n",
       "      <td>Friday, September 1, 2000</td>\n",
       "      <td>Price Starting at $5.29</td>\n",
       "    </tr>\n",
       "    <tr>\n",
       "      <th>3</th>\n",
       "      <td>440234743</td>\n",
       "      <td>The Testament</td>\n",
       "      <td>John Grisham</td>\n",
       "      <td>1999</td>\n",
       "      <td>Dell</td>\n",
       "      <td>http://images.amazon.com/images/P/0440234743.0...</td>\n",
       "      <td>By Lustbader, Eric</td>\n",
       "      <td>The new international thriller from the New Yo...</td>\n",
       "      <td>Thrillers , General</td>\n",
       "      <td>Thrillers</td>\n",
       "      <td>Forge Books</td>\n",
       "      <td>Friday, September 1, 2006</td>\n",
       "      <td>Price Starting at $4.99</td>\n",
       "    </tr>\n",
       "    <tr>\n",
       "      <th>4</th>\n",
       "      <td>609804618</td>\n",
       "      <td>Our Dumb Century: The Onion Presents 100 Years...</td>\n",
       "      <td>The Onion</td>\n",
       "      <td>1999</td>\n",
       "      <td>Three Rivers Press</td>\n",
       "      <td>http://images.amazon.com/images/P/0609804618.0...</td>\n",
       "      <td>By Dikkers, Scott and Onion Staff (COR)</td>\n",
       "      <td>The Onion has quickly become the world's most ...</td>\n",
       "      <td>Humor , Topic , Politics</td>\n",
       "      <td>Humor</td>\n",
       "      <td>Three Rivers Press</td>\n",
       "      <td>Monday, March 1, 1999</td>\n",
       "      <td>Price Starting at $10.99</td>\n",
       "    </tr>\n",
       "  </tbody>\n",
       "</table>\n",
       "</div>"
      ],
      "text/plain": [
       "        ISBN                                              Title  \\\n",
       "0  393045218                             The Mummies of Urumchi   \n",
       "1  399135782                             The Kitchen God's Wife   \n",
       "2  425176428  What If?: The World's Foremost Military Histor...   \n",
       "3  440234743                                      The Testament   \n",
       "4  609804618  Our Dumb Century: The Onion Presents 100 Years...   \n",
       "\n",
       "       Book-Author  Year-Of-Publication                 Publisher_x  \\\n",
       "0  E. J. W. Barber                 1999  W. W. Norton &amp; Company   \n",
       "1          Amy Tan                 1991            Putnam Pub Group   \n",
       "2    Robert Cowley                 2000    Berkley Publishing Group   \n",
       "3     John Grisham                 1999                        Dell   \n",
       "4        The Onion                 1999          Three Rivers Press   \n",
       "\n",
       "                                         Image-URL-L  \\\n",
       "0  http://images.amazon.com/images/P/0393045218.0...   \n",
       "1  http://images.amazon.com/images/P/0399135782.0...   \n",
       "2  http://images.amazon.com/images/P/0425176428.0...   \n",
       "3  http://images.amazon.com/images/P/0440234743.0...   \n",
       "4  http://images.amazon.com/images/P/0609804618.0...   \n",
       "\n",
       "                                             Authors  \\\n",
       "0                       By Barber, Elizabeth Wayland   \n",
       "1                                        By Tan, Amy   \n",
       "2  By Cowley, Robert (EDT) and Ambrose, Stephen E...   \n",
       "3                                 By Lustbader, Eric   \n",
       "4            By Dikkers, Scott and Onion Staff (COR)   \n",
       "\n",
       "                                         Description  \\\n",
       "0  A fascinating exploration of the mysterious, p...   \n",
       "1  With the same narrative skills and evocative p...   \n",
       "2  Essays by respected military historians, inclu...   \n",
       "3  The new international thriller from the New Yo...   \n",
       "4  The Onion has quickly become the world's most ...   \n",
       "\n",
       "                         Category           Genre          Publisher_y  \\\n",
       "0    Social Science , Archaeology  Social Science  W W Norton & Co Inc   \n",
       "1                        Literary        Literary              Vintage   \n",
       "2   History , Military , Strategy         History              Berkley   \n",
       "3             Thrillers , General       Thrillers          Forge Books   \n",
       "4        Humor , Topic , Politics           Humor   Three Rivers Press   \n",
       "\n",
       "                Publish Date                     Price  \n",
       "0    Friday, January 1, 1999   Price Starting at $8.79  \n",
       "1   Monday, November 1, 1993   Price Starting at $4.99  \n",
       "2  Friday, September 1, 2000   Price Starting at $5.29  \n",
       "3  Friday, September 1, 2006   Price Starting at $4.99  \n",
       "4      Monday, March 1, 1999  Price Starting at $10.99  "
      ]
     },
     "execution_count": 5,
     "metadata": {},
     "output_type": "execute_result"
    }
   ],
   "source": [
    "df.head()"
   ]
  },
  {
   "cell_type": "code",
   "execution_count": 6,
   "metadata": {
    "colab": {
     "base_uri": "https://localhost:8080/"
    },
    "executionInfo": {
     "elapsed": 45,
     "status": "ok",
     "timestamp": 1738351710384,
     "user": {
      "displayName": "Shahbaz Ahmed",
      "userId": "03124141683529273044"
     },
     "user_tz": -300
    },
    "id": "XeTjBo_qe1Az",
    "outputId": "82723b9d-d0d2-4609-c42a-8bc185791f9e"
   },
   "outputs": [
    {
     "data": {
      "text/plain": [
       "(19572, 13)"
      ]
     },
     "execution_count": 6,
     "metadata": {},
     "output_type": "execute_result"
    }
   ],
   "source": [
    "df.shape"
   ]
  },
  {
   "cell_type": "code",
   "execution_count": 7,
   "metadata": {
    "colab": {
     "base_uri": "https://localhost:8080/"
    },
    "executionInfo": {
     "elapsed": 36,
     "status": "ok",
     "timestamp": 1738351710385,
     "user": {
      "displayName": "Shahbaz Ahmed",
      "userId": "03124141683529273044"
     },
     "user_tz": -300
    },
    "id": "21MuXxXLe_8I",
    "outputId": "3755fb3a-f25c-4f0a-b4b5-d76d81f897c7"
   },
   "outputs": [
    {
     "name": "stdout",
     "output_type": "stream",
     "text": [
      "<class 'pandas.core.frame.DataFrame'>\n",
      "RangeIndex: 19572 entries, 0 to 19571\n",
      "Data columns (total 13 columns):\n",
      " #   Column               Non-Null Count  Dtype \n",
      "---  ------               --------------  ----- \n",
      " 0   ISBN                 19572 non-null  object\n",
      " 1   Title                19572 non-null  object\n",
      " 2   Book-Author          19572 non-null  object\n",
      " 3   Year-Of-Publication  19572 non-null  int64 \n",
      " 4   Publisher_x          19572 non-null  object\n",
      " 5   Image-URL-L          19572 non-null  object\n",
      " 6   Authors              19572 non-null  object\n",
      " 7   Description          19572 non-null  object\n",
      " 8   Category             19572 non-null  object\n",
      " 9   Genre                19572 non-null  object\n",
      " 10  Publisher_y          19572 non-null  object\n",
      " 11  Publish Date         19572 non-null  object\n",
      " 12  Price                19572 non-null  object\n",
      "dtypes: int64(1), object(12)\n",
      "memory usage: 1.9+ MB\n"
     ]
    }
   ],
   "source": [
    "df.info()"
   ]
  },
  {
   "cell_type": "code",
   "execution_count": 8,
   "metadata": {
    "executionInfo": {
     "elapsed": 29,
     "status": "ok",
     "timestamp": 1738351710385,
     "user": {
      "displayName": "Shahbaz Ahmed",
      "userId": "03124141683529273044"
     },
     "user_tz": -300
    },
    "id": "-pLGJ8flgBIk"
   },
   "outputs": [],
   "source": [
    "df.drop_duplicates(inplace=True)"
   ]
  },
  {
   "cell_type": "code",
   "execution_count": 9,
   "metadata": {
    "colab": {
     "base_uri": "https://localhost:8080/"
    },
    "executionInfo": {
     "elapsed": 29,
     "status": "ok",
     "timestamp": 1738351710386,
     "user": {
      "displayName": "Shahbaz Ahmed",
      "userId": "03124141683529273044"
     },
     "user_tz": -300
    },
    "id": "Fiqx-XBOgpdZ",
    "outputId": "c211f312-b6aa-48ee-8dfc-a42fb84cc06a"
   },
   "outputs": [
    {
     "name": "stdout",
     "output_type": "stream",
     "text": [
      "<class 'pandas.core.frame.DataFrame'>\n",
      "Index: 19571 entries, 0 to 19571\n",
      "Data columns (total 13 columns):\n",
      " #   Column               Non-Null Count  Dtype \n",
      "---  ------               --------------  ----- \n",
      " 0   ISBN                 19571 non-null  object\n",
      " 1   Title                19571 non-null  object\n",
      " 2   Book-Author          19571 non-null  object\n",
      " 3   Year-Of-Publication  19571 non-null  int64 \n",
      " 4   Publisher_x          19571 non-null  object\n",
      " 5   Image-URL-L          19571 non-null  object\n",
      " 6   Authors              19571 non-null  object\n",
      " 7   Description          19571 non-null  object\n",
      " 8   Category             19571 non-null  object\n",
      " 9   Genre                19571 non-null  object\n",
      " 10  Publisher_y          19571 non-null  object\n",
      " 11  Publish Date         19571 non-null  object\n",
      " 12  Price                19571 non-null  object\n",
      "dtypes: int64(1), object(12)\n",
      "memory usage: 2.1+ MB\n"
     ]
    }
   ],
   "source": [
    "df.info()"
   ]
  },
  {
   "cell_type": "code",
   "execution_count": 10,
   "metadata": {
    "colab": {
     "base_uri": "https://localhost:8080/"
    },
    "executionInfo": {
     "elapsed": 363,
     "status": "ok",
     "timestamp": 1738351710727,
     "user": {
      "displayName": "Shahbaz Ahmed",
      "userId": "03124141683529273044"
     },
     "user_tz": -300
    },
    "id": "TdJZXeeugrGH",
    "outputId": "230d1eed-e2a9-49d0-f499-53c90e29ce26"
   },
   "outputs": [
    {
     "data": {
      "text/plain": [
       "False"
      ]
     },
     "execution_count": 10,
     "metadata": {},
     "output_type": "execute_result"
    }
   ],
   "source": [
    "has_duplicates = df.duplicated(keep=False).any()\n",
    "has_duplicates"
   ]
  },
  {
   "cell_type": "code",
   "execution_count": 11,
   "metadata": {
    "colab": {
     "base_uri": "https://localhost:8080/"
    },
    "executionInfo": {
     "elapsed": 4099,
     "status": "ok",
     "timestamp": 1738351714822,
     "user": {
      "displayName": "Shahbaz Ahmed",
      "userId": "03124141683529273044"
     },
     "user_tz": -300
    },
    "id": "akUoVteeh-pz",
    "outputId": "a248c0b8-6233-45d2-da6c-5957e14a90be"
   },
   "outputs": [
    {
     "name": "stderr",
     "output_type": "stream",
     "text": [
      "[nltk_data] Downloading package wordnet to\n",
      "[nltk_data]     C:\\Users\\sr\\AppData\\Roaming\\nltk_data...\n",
      "[nltk_data]   Package wordnet is already up-to-date!\n",
      "[nltk_data] Downloading package omw-1.4 to\n",
      "[nltk_data]     C:\\Users\\sr\\AppData\\Roaming\\nltk_data...\n",
      "[nltk_data]   Package omw-1.4 is already up-to-date!\n",
      "[nltk_data] Downloading package punkt_tab to\n",
      "[nltk_data]     C:\\Users\\sr\\AppData\\Roaming\\nltk_data...\n",
      "[nltk_data]   Package punkt_tab is already up-to-date!\n",
      "[nltk_data] Downloading package stopwords to\n",
      "[nltk_data]     C:\\Users\\sr\\AppData\\Roaming\\nltk_data...\n",
      "[nltk_data]   Package stopwords is already up-to-date!\n"
     ]
    },
    {
     "data": {
      "text/plain": [
       "True"
      ]
     },
     "execution_count": 11,
     "metadata": {},
     "output_type": "execute_result"
    }
   ],
   "source": [
    "import nltk\n",
    "import re\n",
    "import nltk.corpus\n",
    "from nltk.corpus import stopwords\n",
    "from nltk.stem import WordNetLemmatizer\n",
    "from nltk.tokenize import word_tokenize\n",
    "\n",
    "nltk.download('wordnet')\n",
    "nltk.download('omw-1.4')\n",
    "nltk.download('punkt_tab')\n",
    "nltk.download('stopwords')"
   ]
  },
  {
   "cell_type": "code",
   "execution_count": 16,
   "metadata": {
    "executionInfo": {
     "elapsed": 17,
     "status": "ok",
     "timestamp": 1738351714823,
     "user": {
      "displayName": "Shahbaz Ahmed",
      "userId": "03124141683529273044"
     },
     "user_tz": -300
    },
    "id": "mxA_YK25jRWQ"
   },
   "outputs": [],
   "source": [
    "def clean_description(text):\n",
    "    # Convert to lowercase\n",
    "    text = text.lower()\n",
    "\n",
    "    # Remove special characters and digits\n",
    "    text = re.sub(r'[^a-z\\s]', '', text)\n",
    "\n",
    "    # Tokenize text\n",
    "    words = word_tokenize(text)\n",
    "\n",
    "    # Remove stopwords\n",
    "    stop_words = set(stopwords.words('english'))\n",
    "    words = [word for word in words if word not in stop_words]\n",
    "\n",
    "    # Lemmatize words\n",
    "    lemmatizer = WordNetLemmatizer()\n",
    "    words = [lemmatizer.lemmatize(word) for word in words]\n",
    "\n",
    "    # Join words back into a single string\n",
    "    return ' '.join(words)"
   ]
  },
  {
   "cell_type": "code",
   "execution_count": 17,
   "metadata": {
    "executionInfo": {
     "elapsed": 16,
     "status": "ok",
     "timestamp": 1738351714823,
     "user": {
      "displayName": "Shahbaz Ahmed",
      "userId": "03124141683529273044"
     },
     "user_tz": -300
    },
    "id": "mV7_c6dejRTT"
   },
   "outputs": [],
   "source": [
    "df1 = df[['ISBN', 'Title', 'Book-Author', 'Image-URL-L', 'Description', 'Genre']]"
   ]
  },
  {
   "cell_type": "code",
   "execution_count": 18,
   "metadata": {
    "colab": {
     "base_uri": "https://localhost:8080/"
    },
    "executionInfo": {
     "elapsed": 15,
     "status": "ok",
     "timestamp": 1738351714823,
     "user": {
      "displayName": "Shahbaz Ahmed",
      "userId": "03124141683529273044"
     },
     "user_tz": -300
    },
    "id": "3LpVC1_DjRQj",
    "outputId": "ccaf9be0-6d54-4017-faff-d0e8c5e4f9fd"
   },
   "outputs": [
    {
     "data": {
      "text/plain": [
       "(19571, 6)"
      ]
     },
     "execution_count": 18,
     "metadata": {},
     "output_type": "execute_result"
    }
   ],
   "source": [
    "df1.shape"
   ]
  },
  {
   "cell_type": "code",
   "execution_count": 19,
   "metadata": {
    "colab": {
     "base_uri": "https://localhost:8080/"
    },
    "executionInfo": {
     "elapsed": 23858,
     "status": "ok",
     "timestamp": 1738351738671,
     "user": {
      "displayName": "Shahbaz Ahmed",
      "userId": "03124141683529273044"
     },
     "user_tz": -300
    },
    "id": "Ulr53sy7jRMm",
    "outputId": "15e2fe00-cc31-4ad1-aaf2-10036e1e8c83"
   },
   "outputs": [
    {
     "name": "stderr",
     "output_type": "stream",
     "text": [
      "C:\\Users\\sr\\AppData\\Local\\Temp\\ipykernel_10024\\2955147914.py:1: SettingWithCopyWarning: \n",
      "A value is trying to be set on a copy of a slice from a DataFrame.\n",
      "Try using .loc[row_indexer,col_indexer] = value instead\n",
      "\n",
      "See the caveats in the documentation: https://pandas.pydata.org/pandas-docs/stable/user_guide/indexing.html#returning-a-view-versus-a-copy\n",
      "  df1['Cleaned_Description'] = df1['Description'].apply(clean_description)\n"
     ]
    }
   ],
   "source": [
    "df1['Cleaned_Description'] = df1['Description'].apply(clean_description)"
   ]
  },
  {
   "cell_type": "code",
   "execution_count": 20,
   "metadata": {
    "colab": {
     "base_uri": "https://localhost:8080/"
    },
    "executionInfo": {
     "elapsed": 68,
     "status": "ok",
     "timestamp": 1738351738672,
     "user": {
      "displayName": "Shahbaz Ahmed",
      "userId": "03124141683529273044"
     },
     "user_tz": -300
    },
    "id": "_l-F1W5tjRKD",
    "outputId": "3421045e-31fd-4ebb-b8da-19be7c6bc89f"
   },
   "outputs": [
    {
     "data": {
      "text/plain": [
       "(19571, 7)"
      ]
     },
     "execution_count": 20,
     "metadata": {},
     "output_type": "execute_result"
    }
   ],
   "source": [
    "df1.shape"
   ]
  },
  {
   "cell_type": "code",
   "execution_count": 21,
   "metadata": {
    "colab": {
     "base_uri": "https://localhost:8080/",
     "height": 209
    },
    "executionInfo": {
     "elapsed": 64,
     "status": "ok",
     "timestamp": 1738351738673,
     "user": {
      "displayName": "Shahbaz Ahmed",
      "userId": "03124141683529273044"
     },
     "user_tz": -300
    },
    "id": "dduIjR23jQUP",
    "outputId": "8afa2ef7-4f8f-469c-f980-117dd8fc3753"
   },
   "outputs": [
    {
     "data": {
      "text/plain": [
       "0    fascinating exploration mysterious perfectly p...\n",
       "1    narrative skill evocative power made first nov...\n",
       "2    essay respected military historian including s...\n",
       "3    new international thriller new york time bests...\n",
       "Name: Cleaned_Description, dtype: object"
      ]
     },
     "execution_count": 21,
     "metadata": {},
     "output_type": "execute_result"
    }
   ],
   "source": [
    "df1['Cleaned_Description'][0:4]"
   ]
  },
  {
   "cell_type": "code",
   "execution_count": 22,
   "metadata": {
    "colab": {
     "base_uri": "https://localhost:8080/"
    },
    "executionInfo": {
     "elapsed": 60,
     "status": "ok",
     "timestamp": 1738351738673,
     "user": {
      "displayName": "Shahbaz Ahmed",
      "userId": "03124141683529273044"
     },
     "user_tz": -300
    },
    "id": "4QD6FHbdnRHC",
    "outputId": "36276aec-08e3-45ef-a656-8b90efd281ae"
   },
   "outputs": [
    {
     "name": "stdout",
     "output_type": "stream",
     "text": [
      "<class 'pandas.core.frame.DataFrame'>\n",
      "Index: 19571 entries, 0 to 19571\n",
      "Data columns (total 7 columns):\n",
      " #   Column               Non-Null Count  Dtype \n",
      "---  ------               --------------  ----- \n",
      " 0   ISBN                 19571 non-null  object\n",
      " 1   Title                19571 non-null  object\n",
      " 2   Book-Author          19571 non-null  object\n",
      " 3   Image-URL-L          19571 non-null  object\n",
      " 4   Description          19571 non-null  object\n",
      " 5   Genre                19571 non-null  object\n",
      " 6   Cleaned_Description  19571 non-null  object\n",
      "dtypes: object(7)\n",
      "memory usage: 1.2+ MB\n"
     ]
    }
   ],
   "source": [
    "df1.info()"
   ]
  },
  {
   "cell_type": "code",
   "execution_count": 23,
   "metadata": {
    "colab": {
     "base_uri": "https://localhost:8080/"
    },
    "executionInfo": {
     "elapsed": 54,
     "status": "ok",
     "timestamp": 1738351738674,
     "user": {
      "displayName": "Shahbaz Ahmed",
      "userId": "03124141683529273044"
     },
     "user_tz": -300
    },
    "id": "vUjckUxmnk4Z",
    "outputId": "568699aa-93c5-4d6d-ecb3-1fa346b9a6d8"
   },
   "outputs": [
    {
     "name": "stdout",
     "output_type": "stream",
     "text": [
      "Genres and their counts in ascending order:\n",
      "Genre\n",
      "Romance                        1833\n",
      "Thrillers                      1634\n",
      "Mystery & Detective            1271\n",
      "Literary                       1212\n",
      "Biography & Autobiography       848\n",
      "                               ... \n",
      "Juvenile Art & Architecture       1\n",
      "Juvenile Non Music                1\n",
      "Young Adult Art                   1\n",
      "Juvenile Law & Crime              1\n",
      "Young Adult Non Family            1\n",
      "Name: count, Length: 253, dtype: int64\n"
     ]
    }
   ],
   "source": [
    "# Get value counts in ascending order\n",
    "genre_counts = df1['Genre'].value_counts().sort_values(ascending=False)\n",
    "\n",
    "# Print the genre counts\n",
    "print(\"Genres and their counts in ascending order:\")\n",
    "print(genre_counts)"
   ]
  },
  {
   "cell_type": "code",
   "execution_count": 24,
   "metadata": {
    "colab": {
     "base_uri": "https://localhost:8080/"
    },
    "executionInfo": {
     "elapsed": 48,
     "status": "ok",
     "timestamp": 1738351738674,
     "user": {
      "displayName": "Shahbaz Ahmed",
      "userId": "03124141683529273044"
     },
     "user_tz": -300
    },
    "id": "epUXKQyaoiSN",
    "outputId": "611dac51-75c8-449e-98e3-b9110038a64d"
   },
   "outputs": [
    {
     "name": "stderr",
     "output_type": "stream",
     "text": [
      "C:\\Users\\sr\\AppData\\Local\\Temp\\ipykernel_10024\\244627962.py:1: SettingWithCopyWarning: \n",
      "A value is trying to be set on a copy of a slice from a DataFrame.\n",
      "Try using .loc[row_indexer,col_indexer] = value instead\n",
      "\n",
      "See the caveats in the documentation: https://pandas.pydata.org/pandas-docs/stable/user_guide/indexing.html#returning-a-view-versus-a-copy\n",
      "  df1['Genre_2'] = df1['Genre'].copy()\n"
     ]
    }
   ],
   "source": [
    "df1['Genre_2'] = df1['Genre'].copy()"
   ]
  },
  {
   "cell_type": "code",
   "execution_count": 25,
   "metadata": {
    "colab": {
     "base_uri": "https://localhost:8080/"
    },
    "executionInfo": {
     "elapsed": 42,
     "status": "ok",
     "timestamp": 1738351738674,
     "user": {
      "displayName": "Shahbaz Ahmed",
      "userId": "03124141683529273044"
     },
     "user_tz": -300
    },
    "id": "5Lh2zJvUpo7S",
    "outputId": "be7e8674-e6fd-45ad-c16b-d6d2b9aaeb6f"
   },
   "outputs": [
    {
     "name": "stdout",
     "output_type": "stream",
     "text": [
      "<class 'pandas.core.frame.DataFrame'>\n",
      "Index: 19571 entries, 0 to 19571\n",
      "Data columns (total 8 columns):\n",
      " #   Column               Non-Null Count  Dtype \n",
      "---  ------               --------------  ----- \n",
      " 0   ISBN                 19571 non-null  object\n",
      " 1   Title                19571 non-null  object\n",
      " 2   Book-Author          19571 non-null  object\n",
      " 3   Image-URL-L          19571 non-null  object\n",
      " 4   Description          19571 non-null  object\n",
      " 5   Genre                19571 non-null  object\n",
      " 6   Cleaned_Description  19571 non-null  object\n",
      " 7   Genre_2              19571 non-null  object\n",
      "dtypes: object(8)\n",
      "memory usage: 1.3+ MB\n"
     ]
    }
   ],
   "source": [
    "df1.info()"
   ]
  },
  {
   "cell_type": "code",
   "execution_count": 26,
   "metadata": {
    "colab": {
     "base_uri": "https://localhost:8080/"
    },
    "executionInfo": {
     "elapsed": 37,
     "status": "ok",
     "timestamp": 1738351738674,
     "user": {
      "displayName": "Shahbaz Ahmed",
      "userId": "03124141683529273044"
     },
     "user_tz": -300
    },
    "id": "YJO_eyVVpq9-",
    "outputId": "5ec639dc-4219-49e2-99af-e754968333d2"
   },
   "outputs": [
    {
     "name": "stderr",
     "output_type": "stream",
     "text": [
      "C:\\Users\\sr\\AppData\\Local\\Temp\\ipykernel_10024\\2210041043.py:7: SettingWithCopyWarning: \n",
      "A value is trying to be set on a copy of a slice from a DataFrame.\n",
      "Try using .loc[row_indexer,col_indexer] = value instead\n",
      "\n",
      "See the caveats in the documentation: https://pandas.pydata.org/pandas-docs/stable/user_guide/indexing.html#returning-a-view-versus-a-copy\n",
      "  df1['Genre_2'] = df1['Genre_2'].apply(lambda x: 'Others' if x in rare_genres else x)\n"
     ]
    }
   ],
   "source": [
    "genre_counts = df1['Genre_2'].value_counts()\n",
    "\n",
    "# Identify genres with less than 50 occurrences\n",
    "rare_genres = genre_counts[genre_counts < 50].index\n",
    "\n",
    "# Replace rare genres with 'Others'\n",
    "df1['Genre_2'] = df1['Genre_2'].apply(lambda x: 'Others' if x in rare_genres else x)"
   ]
  },
  {
   "cell_type": "code",
   "execution_count": 27,
   "metadata": {
    "colab": {
     "base_uri": "https://localhost:8080/"
    },
    "executionInfo": {
     "elapsed": 31,
     "status": "ok",
     "timestamp": 1738351738675,
     "user": {
      "displayName": "Shahbaz Ahmed",
      "userId": "03124141683529273044"
     },
     "user_tz": -300
    },
    "id": "kdC27rGnrA3g",
    "outputId": "f3260f80-1251-4e8c-cc64-c59682219ed6"
   },
   "outputs": [
    {
     "name": "stdout",
     "output_type": "stream",
     "text": [
      "Genres and their counts in ascending order:\n",
      "Genre_2\n",
      "Romance                            1833\n",
      "Others                             1821\n",
      "Thrillers                          1634\n",
      "Mystery & Detective                1271\n",
      "Literary                           1212\n",
      "                                   ... \n",
      "Juvenile Fairy Tales & Folklore      62\n",
      "Juvenile Historical                  59\n",
      "Technology & Engineering             59\n",
      "Contemporary Women                   55\n",
      "Education                            55\n",
      "Name: count, Length: 72, dtype: int64\n"
     ]
    }
   ],
   "source": [
    "# Get value counts in ascending order\n",
    "genre_counts = df1['Genre_2'].value_counts().sort_values(ascending=False)\n",
    "\n",
    "# Print the genre counts\n",
    "print(\"Genres and their counts in ascending order:\")\n",
    "print(genre_counts)"
   ]
  },
  {
   "cell_type": "code",
   "execution_count": 28,
   "metadata": {
    "colab": {
     "base_uri": "https://localhost:8080/"
    },
    "executionInfo": {
     "elapsed": 1999,
     "status": "ok",
     "timestamp": 1738351740650,
     "user": {
      "displayName": "Shahbaz Ahmed",
      "userId": "03124141683529273044"
     },
     "user_tz": -300
    },
    "id": "_mL-_Xj5vWs6",
    "outputId": "7b56201d-5a4c-4eda-ff16-eb50f7e48084"
   },
   "outputs": [
    {
     "name": "stdout",
     "output_type": "stream",
     "text": [
      "Genre_2\n",
      "Music                               13357\n",
      "Poetry                              12542\n",
      "Juvenile Holidays & Celebrations    10751\n",
      "Classics                            10501\n",
      "Juvenile Fairy Tales & Folklore      8165\n",
      "                                    ...  \n",
      "Gardening                            2160\n",
      "Education                            2157\n",
      "Cooking                              2154\n",
      "Pets                                 2138\n",
      "House & Home                         2041\n",
      "Name: count, Length: 72, dtype: int64\n"
     ]
    }
   ],
   "source": [
    "from imblearn.over_sampling import RandomOverSampler\n",
    "\n",
    "# Reset index before oversampling to track original rows\n",
    "df1 = df1.reset_index(drop=True)\n",
    "\n",
    "# Select features (excluding metadata columns)\n",
    "X = df1[['Cleaned_Description']]\n",
    "y = df1['Genre_2']\n",
    "\n",
    "# Apply oversampling\n",
    "oversample = RandomOverSampler(sampling_strategy='auto', random_state=42)\n",
    "X_resampled, y_resampled = oversample.fit_resample(X, y)\n",
    "\n",
    "# Convert resampled data to DataFrame\n",
    "df_resampled = pd.DataFrame(X_resampled, columns=['Cleaned_Description'])\n",
    "df_resampled['Genre_2'] = y_resampled  # Add the target column\n",
    "\n",
    "# Merge with original metadata using the cleaned description\n",
    "df_resampled = df_resampled.merge(df1, on=['Cleaned_Description', 'Genre_2'], how='left')\n",
    "\n",
    "# Check class distribution\n",
    "print(df_resampled['Genre_2'].value_counts())\n",
    "\n"
   ]
  },
  {
   "cell_type": "code",
   "execution_count": 29,
   "metadata": {
    "colab": {
     "base_uri": "https://localhost:8080/"
    },
    "executionInfo": {
     "elapsed": 19,
     "status": "ok",
     "timestamp": 1738351740651,
     "user": {
      "displayName": "Shahbaz Ahmed",
      "userId": "03124141683529273044"
     },
     "user_tz": -300
    },
    "id": "m79veT2MxoJ2",
    "outputId": "d9ecb96b-161e-4028-bcdf-65d7ed67d526"
   },
   "outputs": [
    {
     "name": "stdout",
     "output_type": "stream",
     "text": [
      "<class 'pandas.core.frame.DataFrame'>\n",
      "RangeIndex: 19571 entries, 0 to 19570\n",
      "Data columns (total 8 columns):\n",
      " #   Column               Non-Null Count  Dtype \n",
      "---  ------               --------------  ----- \n",
      " 0   ISBN                 19571 non-null  object\n",
      " 1   Title                19571 non-null  object\n",
      " 2   Book-Author          19571 non-null  object\n",
      " 3   Image-URL-L          19571 non-null  object\n",
      " 4   Description          19571 non-null  object\n",
      " 5   Genre                19571 non-null  object\n",
      " 6   Cleaned_Description  19571 non-null  object\n",
      " 7   Genre_2              19571 non-null  object\n",
      "dtypes: object(8)\n",
      "memory usage: 1.2+ MB\n"
     ]
    }
   ],
   "source": [
    "df1.info()"
   ]
  },
  {
   "cell_type": "code",
   "execution_count": 30,
   "metadata": {
    "colab": {
     "base_uri": "https://localhost:8080/"
    },
    "executionInfo": {
     "elapsed": 17,
     "status": "ok",
     "timestamp": 1738351740651,
     "user": {
      "displayName": "Shahbaz Ahmed",
      "userId": "03124141683529273044"
     },
     "user_tz": -300
    },
    "id": "P_YqIfukyJns",
    "outputId": "eddf0c34-8bd9-438f-9f71-f4954929ba4b"
   },
   "outputs": [
    {
     "name": "stdout",
     "output_type": "stream",
     "text": [
      "<class 'pandas.core.frame.DataFrame'>\n",
      "RangeIndex: 330068 entries, 0 to 330067\n",
      "Data columns (total 8 columns):\n",
      " #   Column               Non-Null Count   Dtype \n",
      "---  ------               --------------   ----- \n",
      " 0   Cleaned_Description  330068 non-null  object\n",
      " 1   Genre_2              330068 non-null  object\n",
      " 2   ISBN                 330068 non-null  object\n",
      " 3   Title                330068 non-null  object\n",
      " 4   Book-Author          330068 non-null  object\n",
      " 5   Image-URL-L          330068 non-null  object\n",
      " 6   Description          330068 non-null  object\n",
      " 7   Genre                330068 non-null  object\n",
      "dtypes: object(8)\n",
      "memory usage: 20.1+ MB\n"
     ]
    }
   ],
   "source": [
    "df_resampled.info()"
   ]
  },
  {
   "cell_type": "code",
   "execution_count": 31,
   "metadata": {
    "executionInfo": {
     "elapsed": 11,
     "status": "ok",
     "timestamp": 1738351740651,
     "user": {
      "displayName": "Shahbaz Ahmed",
      "userId": "03124141683529273044"
     },
     "user_tz": -300
    },
    "id": "B7q1XyGYyeCZ"
   },
   "outputs": [],
   "source": [
    "from sklearn.preprocessing import LabelEncoder"
   ]
  },
  {
   "cell_type": "code",
   "execution_count": 32,
   "metadata": {
    "executionInfo": {
     "elapsed": 9,
     "status": "ok",
     "timestamp": 1738351740651,
     "user": {
      "displayName": "Shahbaz Ahmed",
      "userId": "03124141683529273044"
     },
     "user_tz": -300
    },
    "id": "HHQz8cKBzGVC"
   },
   "outputs": [],
   "source": [
    "le = LabelEncoder()"
   ]
  },
  {
   "cell_type": "code",
   "execution_count": 33,
   "metadata": {
    "executionInfo": {
     "elapsed": 352,
     "status": "ok",
     "timestamp": 1738351740994,
     "user": {
      "displayName": "Shahbaz Ahmed",
      "userId": "03124141683529273044"
     },
     "user_tz": -300
    },
    "id": "LZ93WFKmzIyc"
   },
   "outputs": [],
   "source": [
    "y = le.fit_transform(df_resampled['Genre_2'])"
   ]
  },
  {
   "cell_type": "code",
   "execution_count": 34,
   "metadata": {
    "executionInfo": {
     "elapsed": 7,
     "status": "ok",
     "timestamp": 1738351740995,
     "user": {
      "displayName": "Shahbaz Ahmed",
      "userId": "03124141683529273044"
     },
     "user_tz": -300
    },
    "id": "vRmlC5Ou0P-F"
   },
   "outputs": [],
   "source": [
    "from sklearn.feature_extraction.text import TfidfVectorizer"
   ]
  },
  {
   "cell_type": "code",
   "execution_count": 35,
   "metadata": {
    "executionInfo": {
     "elapsed": 6,
     "status": "ok",
     "timestamp": 1738351740995,
     "user": {
      "displayName": "Shahbaz Ahmed",
      "userId": "03124141683529273044"
     },
     "user_tz": -300
    },
    "id": "_erGWNXJ0XgZ"
   },
   "outputs": [],
   "source": [
    "X = df_resampled['Cleaned_Description']"
   ]
  },
  {
   "cell_type": "code",
   "execution_count": 36,
   "metadata": {
    "executionInfo": {
     "elapsed": 20551,
     "status": "ok",
     "timestamp": 1738351761541,
     "user": {
      "displayName": "Shahbaz Ahmed",
      "userId": "03124141683529273044"
     },
     "user_tz": -300
    },
    "id": "28FsG6Et1CWC"
   },
   "outputs": [],
   "source": [
    "vectorizer = TfidfVectorizer(max_features=5000)\n",
    "X_tfidf = vectorizer.fit_transform(X)"
   ]
  },
  {
   "cell_type": "code",
   "execution_count": 37,
   "metadata": {
    "executionInfo": {
     "elapsed": 12,
     "status": "ok",
     "timestamp": 1738351761541,
     "user": {
      "displayName": "Shahbaz Ahmed",
      "userId": "03124141683529273044"
     },
     "user_tz": -300
    },
    "id": "Tc4ALPce1ipr"
   },
   "outputs": [],
   "source": [
    "from sklearn.model_selection import train_test_split\n"
   ]
  },
  {
   "cell_type": "code",
   "execution_count": 38,
   "metadata": {
    "executionInfo": {
     "elapsed": 12,
     "status": "ok",
     "timestamp": 1738351761542,
     "user": {
      "displayName": "Shahbaz Ahmed",
      "userId": "03124141683529273044"
     },
     "user_tz": -300
    },
    "id": "KPVigAMx1p4E"
   },
   "outputs": [],
   "source": [
    "X_train, X_test, y_train, y_test = train_test_split(X_tfidf, y, test_size=0.2, random_state=42)"
   ]
  },
  {
   "cell_type": "code",
   "execution_count": 39,
   "metadata": {
    "executionInfo": {
     "elapsed": 11,
     "status": "ok",
     "timestamp": 1738351761542,
     "user": {
      "displayName": "Shahbaz Ahmed",
      "userId": "03124141683529273044"
     },
     "user_tz": -300
    },
    "id": "qRfuMA202Cwc"
   },
   "outputs": [],
   "source": [
    "from sklearn.naive_bayes import MultinomialNB"
   ]
  },
  {
   "cell_type": "code",
   "execution_count": 40,
   "metadata": {
    "colab": {
     "base_uri": "https://localhost:8080/",
     "height": 80
    },
    "executionInfo": {
     "elapsed": 1210,
     "status": "ok",
     "timestamp": 1738351762742,
     "user": {
      "displayName": "Shahbaz Ahmed",
      "userId": "03124141683529273044"
     },
     "user_tz": -300
    },
    "id": "xOIJ8m492FKx",
    "outputId": "9413b10c-ac4c-4ed9-fd9b-0622e0d28ebe"
   },
   "outputs": [
    {
     "data": {
      "text/html": [
       "<style>#sk-container-id-1 {\n",
       "  /* Definition of color scheme common for light and dark mode */\n",
       "  --sklearn-color-text: black;\n",
       "  --sklearn-color-line: gray;\n",
       "  /* Definition of color scheme for unfitted estimators */\n",
       "  --sklearn-color-unfitted-level-0: #fff5e6;\n",
       "  --sklearn-color-unfitted-level-1: #f6e4d2;\n",
       "  --sklearn-color-unfitted-level-2: #ffe0b3;\n",
       "  --sklearn-color-unfitted-level-3: chocolate;\n",
       "  /* Definition of color scheme for fitted estimators */\n",
       "  --sklearn-color-fitted-level-0: #f0f8ff;\n",
       "  --sklearn-color-fitted-level-1: #d4ebff;\n",
       "  --sklearn-color-fitted-level-2: #b3dbfd;\n",
       "  --sklearn-color-fitted-level-3: cornflowerblue;\n",
       "\n",
       "  /* Specific color for light theme */\n",
       "  --sklearn-color-text-on-default-background: var(--sg-text-color, var(--theme-code-foreground, var(--jp-content-font-color1, black)));\n",
       "  --sklearn-color-background: var(--sg-background-color, var(--theme-background, var(--jp-layout-color0, white)));\n",
       "  --sklearn-color-border-box: var(--sg-text-color, var(--theme-code-foreground, var(--jp-content-font-color1, black)));\n",
       "  --sklearn-color-icon: #696969;\n",
       "\n",
       "  @media (prefers-color-scheme: dark) {\n",
       "    /* Redefinition of color scheme for dark theme */\n",
       "    --sklearn-color-text-on-default-background: var(--sg-text-color, var(--theme-code-foreground, var(--jp-content-font-color1, white)));\n",
       "    --sklearn-color-background: var(--sg-background-color, var(--theme-background, var(--jp-layout-color0, #111)));\n",
       "    --sklearn-color-border-box: var(--sg-text-color, var(--theme-code-foreground, var(--jp-content-font-color1, white)));\n",
       "    --sklearn-color-icon: #878787;\n",
       "  }\n",
       "}\n",
       "\n",
       "#sk-container-id-1 {\n",
       "  color: var(--sklearn-color-text);\n",
       "}\n",
       "\n",
       "#sk-container-id-1 pre {\n",
       "  padding: 0;\n",
       "}\n",
       "\n",
       "#sk-container-id-1 input.sk-hidden--visually {\n",
       "  border: 0;\n",
       "  clip: rect(1px 1px 1px 1px);\n",
       "  clip: rect(1px, 1px, 1px, 1px);\n",
       "  height: 1px;\n",
       "  margin: -1px;\n",
       "  overflow: hidden;\n",
       "  padding: 0;\n",
       "  position: absolute;\n",
       "  width: 1px;\n",
       "}\n",
       "\n",
       "#sk-container-id-1 div.sk-dashed-wrapped {\n",
       "  border: 1px dashed var(--sklearn-color-line);\n",
       "  margin: 0 0.4em 0.5em 0.4em;\n",
       "  box-sizing: border-box;\n",
       "  padding-bottom: 0.4em;\n",
       "  background-color: var(--sklearn-color-background);\n",
       "}\n",
       "\n",
       "#sk-container-id-1 div.sk-container {\n",
       "  /* jupyter's `normalize.less` sets `[hidden] { display: none; }`\n",
       "     but bootstrap.min.css set `[hidden] { display: none !important; }`\n",
       "     so we also need the `!important` here to be able to override the\n",
       "     default hidden behavior on the sphinx rendered scikit-learn.org.\n",
       "     See: https://github.com/scikit-learn/scikit-learn/issues/21755 */\n",
       "  display: inline-block !important;\n",
       "  position: relative;\n",
       "}\n",
       "\n",
       "#sk-container-id-1 div.sk-text-repr-fallback {\n",
       "  display: none;\n",
       "}\n",
       "\n",
       "div.sk-parallel-item,\n",
       "div.sk-serial,\n",
       "div.sk-item {\n",
       "  /* draw centered vertical line to link estimators */\n",
       "  background-image: linear-gradient(var(--sklearn-color-text-on-default-background), var(--sklearn-color-text-on-default-background));\n",
       "  background-size: 2px 100%;\n",
       "  background-repeat: no-repeat;\n",
       "  background-position: center center;\n",
       "}\n",
       "\n",
       "/* Parallel-specific style estimator block */\n",
       "\n",
       "#sk-container-id-1 div.sk-parallel-item::after {\n",
       "  content: \"\";\n",
       "  width: 100%;\n",
       "  border-bottom: 2px solid var(--sklearn-color-text-on-default-background);\n",
       "  flex-grow: 1;\n",
       "}\n",
       "\n",
       "#sk-container-id-1 div.sk-parallel {\n",
       "  display: flex;\n",
       "  align-items: stretch;\n",
       "  justify-content: center;\n",
       "  background-color: var(--sklearn-color-background);\n",
       "  position: relative;\n",
       "}\n",
       "\n",
       "#sk-container-id-1 div.sk-parallel-item {\n",
       "  display: flex;\n",
       "  flex-direction: column;\n",
       "}\n",
       "\n",
       "#sk-container-id-1 div.sk-parallel-item:first-child::after {\n",
       "  align-self: flex-end;\n",
       "  width: 50%;\n",
       "}\n",
       "\n",
       "#sk-container-id-1 div.sk-parallel-item:last-child::after {\n",
       "  align-self: flex-start;\n",
       "  width: 50%;\n",
       "}\n",
       "\n",
       "#sk-container-id-1 div.sk-parallel-item:only-child::after {\n",
       "  width: 0;\n",
       "}\n",
       "\n",
       "/* Serial-specific style estimator block */\n",
       "\n",
       "#sk-container-id-1 div.sk-serial {\n",
       "  display: flex;\n",
       "  flex-direction: column;\n",
       "  align-items: center;\n",
       "  background-color: var(--sklearn-color-background);\n",
       "  padding-right: 1em;\n",
       "  padding-left: 1em;\n",
       "}\n",
       "\n",
       "\n",
       "/* Toggleable style: style used for estimator/Pipeline/ColumnTransformer box that is\n",
       "clickable and can be expanded/collapsed.\n",
       "- Pipeline and ColumnTransformer use this feature and define the default style\n",
       "- Estimators will overwrite some part of the style using the `sk-estimator` class\n",
       "*/\n",
       "\n",
       "/* Pipeline and ColumnTransformer style (default) */\n",
       "\n",
       "#sk-container-id-1 div.sk-toggleable {\n",
       "  /* Default theme specific background. It is overwritten whether we have a\n",
       "  specific estimator or a Pipeline/ColumnTransformer */\n",
       "  background-color: var(--sklearn-color-background);\n",
       "}\n",
       "\n",
       "/* Toggleable label */\n",
       "#sk-container-id-1 label.sk-toggleable__label {\n",
       "  cursor: pointer;\n",
       "  display: block;\n",
       "  width: 100%;\n",
       "  margin-bottom: 0;\n",
       "  padding: 0.5em;\n",
       "  box-sizing: border-box;\n",
       "  text-align: center;\n",
       "}\n",
       "\n",
       "#sk-container-id-1 label.sk-toggleable__label-arrow:before {\n",
       "  /* Arrow on the left of the label */\n",
       "  content: \"▸\";\n",
       "  float: left;\n",
       "  margin-right: 0.25em;\n",
       "  color: var(--sklearn-color-icon);\n",
       "}\n",
       "\n",
       "#sk-container-id-1 label.sk-toggleable__label-arrow:hover:before {\n",
       "  color: var(--sklearn-color-text);\n",
       "}\n",
       "\n",
       "/* Toggleable content - dropdown */\n",
       "\n",
       "#sk-container-id-1 div.sk-toggleable__content {\n",
       "  max-height: 0;\n",
       "  max-width: 0;\n",
       "  overflow: hidden;\n",
       "  text-align: left;\n",
       "  /* unfitted */\n",
       "  background-color: var(--sklearn-color-unfitted-level-0);\n",
       "}\n",
       "\n",
       "#sk-container-id-1 div.sk-toggleable__content.fitted {\n",
       "  /* fitted */\n",
       "  background-color: var(--sklearn-color-fitted-level-0);\n",
       "}\n",
       "\n",
       "#sk-container-id-1 div.sk-toggleable__content pre {\n",
       "  margin: 0.2em;\n",
       "  border-radius: 0.25em;\n",
       "  color: var(--sklearn-color-text);\n",
       "  /* unfitted */\n",
       "  background-color: var(--sklearn-color-unfitted-level-0);\n",
       "}\n",
       "\n",
       "#sk-container-id-1 div.sk-toggleable__content.fitted pre {\n",
       "  /* unfitted */\n",
       "  background-color: var(--sklearn-color-fitted-level-0);\n",
       "}\n",
       "\n",
       "#sk-container-id-1 input.sk-toggleable__control:checked~div.sk-toggleable__content {\n",
       "  /* Expand drop-down */\n",
       "  max-height: 200px;\n",
       "  max-width: 100%;\n",
       "  overflow: auto;\n",
       "}\n",
       "\n",
       "#sk-container-id-1 input.sk-toggleable__control:checked~label.sk-toggleable__label-arrow:before {\n",
       "  content: \"▾\";\n",
       "}\n",
       "\n",
       "/* Pipeline/ColumnTransformer-specific style */\n",
       "\n",
       "#sk-container-id-1 div.sk-label input.sk-toggleable__control:checked~label.sk-toggleable__label {\n",
       "  color: var(--sklearn-color-text);\n",
       "  background-color: var(--sklearn-color-unfitted-level-2);\n",
       "}\n",
       "\n",
       "#sk-container-id-1 div.sk-label.fitted input.sk-toggleable__control:checked~label.sk-toggleable__label {\n",
       "  background-color: var(--sklearn-color-fitted-level-2);\n",
       "}\n",
       "\n",
       "/* Estimator-specific style */\n",
       "\n",
       "/* Colorize estimator box */\n",
       "#sk-container-id-1 div.sk-estimator input.sk-toggleable__control:checked~label.sk-toggleable__label {\n",
       "  /* unfitted */\n",
       "  background-color: var(--sklearn-color-unfitted-level-2);\n",
       "}\n",
       "\n",
       "#sk-container-id-1 div.sk-estimator.fitted input.sk-toggleable__control:checked~label.sk-toggleable__label {\n",
       "  /* fitted */\n",
       "  background-color: var(--sklearn-color-fitted-level-2);\n",
       "}\n",
       "\n",
       "#sk-container-id-1 div.sk-label label.sk-toggleable__label,\n",
       "#sk-container-id-1 div.sk-label label {\n",
       "  /* The background is the default theme color */\n",
       "  color: var(--sklearn-color-text-on-default-background);\n",
       "}\n",
       "\n",
       "/* On hover, darken the color of the background */\n",
       "#sk-container-id-1 div.sk-label:hover label.sk-toggleable__label {\n",
       "  color: var(--sklearn-color-text);\n",
       "  background-color: var(--sklearn-color-unfitted-level-2);\n",
       "}\n",
       "\n",
       "/* Label box, darken color on hover, fitted */\n",
       "#sk-container-id-1 div.sk-label.fitted:hover label.sk-toggleable__label.fitted {\n",
       "  color: var(--sklearn-color-text);\n",
       "  background-color: var(--sklearn-color-fitted-level-2);\n",
       "}\n",
       "\n",
       "/* Estimator label */\n",
       "\n",
       "#sk-container-id-1 div.sk-label label {\n",
       "  font-family: monospace;\n",
       "  font-weight: bold;\n",
       "  display: inline-block;\n",
       "  line-height: 1.2em;\n",
       "}\n",
       "\n",
       "#sk-container-id-1 div.sk-label-container {\n",
       "  text-align: center;\n",
       "}\n",
       "\n",
       "/* Estimator-specific */\n",
       "#sk-container-id-1 div.sk-estimator {\n",
       "  font-family: monospace;\n",
       "  border: 1px dotted var(--sklearn-color-border-box);\n",
       "  border-radius: 0.25em;\n",
       "  box-sizing: border-box;\n",
       "  margin-bottom: 0.5em;\n",
       "  /* unfitted */\n",
       "  background-color: var(--sklearn-color-unfitted-level-0);\n",
       "}\n",
       "\n",
       "#sk-container-id-1 div.sk-estimator.fitted {\n",
       "  /* fitted */\n",
       "  background-color: var(--sklearn-color-fitted-level-0);\n",
       "}\n",
       "\n",
       "/* on hover */\n",
       "#sk-container-id-1 div.sk-estimator:hover {\n",
       "  /* unfitted */\n",
       "  background-color: var(--sklearn-color-unfitted-level-2);\n",
       "}\n",
       "\n",
       "#sk-container-id-1 div.sk-estimator.fitted:hover {\n",
       "  /* fitted */\n",
       "  background-color: var(--sklearn-color-fitted-level-2);\n",
       "}\n",
       "\n",
       "/* Specification for estimator info (e.g. \"i\" and \"?\") */\n",
       "\n",
       "/* Common style for \"i\" and \"?\" */\n",
       "\n",
       ".sk-estimator-doc-link,\n",
       "a:link.sk-estimator-doc-link,\n",
       "a:visited.sk-estimator-doc-link {\n",
       "  float: right;\n",
       "  font-size: smaller;\n",
       "  line-height: 1em;\n",
       "  font-family: monospace;\n",
       "  background-color: var(--sklearn-color-background);\n",
       "  border-radius: 1em;\n",
       "  height: 1em;\n",
       "  width: 1em;\n",
       "  text-decoration: none !important;\n",
       "  margin-left: 1ex;\n",
       "  /* unfitted */\n",
       "  border: var(--sklearn-color-unfitted-level-1) 1pt solid;\n",
       "  color: var(--sklearn-color-unfitted-level-1);\n",
       "}\n",
       "\n",
       ".sk-estimator-doc-link.fitted,\n",
       "a:link.sk-estimator-doc-link.fitted,\n",
       "a:visited.sk-estimator-doc-link.fitted {\n",
       "  /* fitted */\n",
       "  border: var(--sklearn-color-fitted-level-1) 1pt solid;\n",
       "  color: var(--sklearn-color-fitted-level-1);\n",
       "}\n",
       "\n",
       "/* On hover */\n",
       "div.sk-estimator:hover .sk-estimator-doc-link:hover,\n",
       ".sk-estimator-doc-link:hover,\n",
       "div.sk-label-container:hover .sk-estimator-doc-link:hover,\n",
       ".sk-estimator-doc-link:hover {\n",
       "  /* unfitted */\n",
       "  background-color: var(--sklearn-color-unfitted-level-3);\n",
       "  color: var(--sklearn-color-background);\n",
       "  text-decoration: none;\n",
       "}\n",
       "\n",
       "div.sk-estimator.fitted:hover .sk-estimator-doc-link.fitted:hover,\n",
       ".sk-estimator-doc-link.fitted:hover,\n",
       "div.sk-label-container:hover .sk-estimator-doc-link.fitted:hover,\n",
       ".sk-estimator-doc-link.fitted:hover {\n",
       "  /* fitted */\n",
       "  background-color: var(--sklearn-color-fitted-level-3);\n",
       "  color: var(--sklearn-color-background);\n",
       "  text-decoration: none;\n",
       "}\n",
       "\n",
       "/* Span, style for the box shown on hovering the info icon */\n",
       ".sk-estimator-doc-link span {\n",
       "  display: none;\n",
       "  z-index: 9999;\n",
       "  position: relative;\n",
       "  font-weight: normal;\n",
       "  right: .2ex;\n",
       "  padding: .5ex;\n",
       "  margin: .5ex;\n",
       "  width: min-content;\n",
       "  min-width: 20ex;\n",
       "  max-width: 50ex;\n",
       "  color: var(--sklearn-color-text);\n",
       "  box-shadow: 2pt 2pt 4pt #999;\n",
       "  /* unfitted */\n",
       "  background: var(--sklearn-color-unfitted-level-0);\n",
       "  border: .5pt solid var(--sklearn-color-unfitted-level-3);\n",
       "}\n",
       "\n",
       ".sk-estimator-doc-link.fitted span {\n",
       "  /* fitted */\n",
       "  background: var(--sklearn-color-fitted-level-0);\n",
       "  border: var(--sklearn-color-fitted-level-3);\n",
       "}\n",
       "\n",
       ".sk-estimator-doc-link:hover span {\n",
       "  display: block;\n",
       "}\n",
       "\n",
       "/* \"?\"-specific style due to the `<a>` HTML tag */\n",
       "\n",
       "#sk-container-id-1 a.estimator_doc_link {\n",
       "  float: right;\n",
       "  font-size: 1rem;\n",
       "  line-height: 1em;\n",
       "  font-family: monospace;\n",
       "  background-color: var(--sklearn-color-background);\n",
       "  border-radius: 1rem;\n",
       "  height: 1rem;\n",
       "  width: 1rem;\n",
       "  text-decoration: none;\n",
       "  /* unfitted */\n",
       "  color: var(--sklearn-color-unfitted-level-1);\n",
       "  border: var(--sklearn-color-unfitted-level-1) 1pt solid;\n",
       "}\n",
       "\n",
       "#sk-container-id-1 a.estimator_doc_link.fitted {\n",
       "  /* fitted */\n",
       "  border: var(--sklearn-color-fitted-level-1) 1pt solid;\n",
       "  color: var(--sklearn-color-fitted-level-1);\n",
       "}\n",
       "\n",
       "/* On hover */\n",
       "#sk-container-id-1 a.estimator_doc_link:hover {\n",
       "  /* unfitted */\n",
       "  background-color: var(--sklearn-color-unfitted-level-3);\n",
       "  color: var(--sklearn-color-background);\n",
       "  text-decoration: none;\n",
       "}\n",
       "\n",
       "#sk-container-id-1 a.estimator_doc_link.fitted:hover {\n",
       "  /* fitted */\n",
       "  background-color: var(--sklearn-color-fitted-level-3);\n",
       "}\n",
       "</style><div id=\"sk-container-id-1\" class=\"sk-top-container\"><div class=\"sk-text-repr-fallback\"><pre>MultinomialNB()</pre><b>In a Jupyter environment, please rerun this cell to show the HTML representation or trust the notebook. <br />On GitHub, the HTML representation is unable to render, please try loading this page with nbviewer.org.</b></div><div class=\"sk-container\" hidden><div class=\"sk-item\"><div class=\"sk-estimator fitted sk-toggleable\"><input class=\"sk-toggleable__control sk-hidden--visually\" id=\"sk-estimator-id-1\" type=\"checkbox\" checked><label for=\"sk-estimator-id-1\" class=\"sk-toggleable__label fitted sk-toggleable__label-arrow fitted\">&nbsp;&nbsp;MultinomialNB<a class=\"sk-estimator-doc-link fitted\" rel=\"noreferrer\" target=\"_blank\" href=\"https://scikit-learn.org/1.5/modules/generated/sklearn.naive_bayes.MultinomialNB.html\">?<span>Documentation for MultinomialNB</span></a><span class=\"sk-estimator-doc-link fitted\">i<span>Fitted</span></span></label><div class=\"sk-toggleable__content fitted\"><pre>MultinomialNB()</pre></div> </div></div></div></div>"
      ],
      "text/plain": [
       "MultinomialNB()"
      ]
     },
     "execution_count": 40,
     "metadata": {},
     "output_type": "execute_result"
    }
   ],
   "source": [
    "model = MultinomialNB()\n",
    "model.fit(X_train, y_train)"
   ]
  },
  {
   "cell_type": "code",
   "execution_count": 41,
   "metadata": {
    "executionInfo": {
     "elapsed": 29,
     "status": "ok",
     "timestamp": 1738351762742,
     "user": {
      "displayName": "Shahbaz Ahmed",
      "userId": "03124141683529273044"
     },
     "user_tz": -300
    },
    "id": "AheNVcaO2Q8q"
   },
   "outputs": [],
   "source": [
    "y_pred = model.predict(X_test)"
   ]
  },
  {
   "cell_type": "code",
   "execution_count": 42,
   "metadata": {
    "executionInfo": {
     "elapsed": 29,
     "status": "ok",
     "timestamp": 1738351762743,
     "user": {
      "displayName": "Shahbaz Ahmed",
      "userId": "03124141683529273044"
     },
     "user_tz": -300
    },
    "id": "mBFZ-czl2Y1j"
   },
   "outputs": [],
   "source": [
    "from sklearn.metrics import f1_score"
   ]
  },
  {
   "cell_type": "code",
   "execution_count": 43,
   "metadata": {
    "colab": {
     "base_uri": "https://localhost:8080/"
    },
    "executionInfo": {
     "elapsed": 28,
     "status": "ok",
     "timestamp": 1738351762743,
     "user": {
      "displayName": "Shahbaz Ahmed",
      "userId": "03124141683529273044"
     },
     "user_tz": -300
    },
    "id": "BKIP5JxP2acw",
    "outputId": "60d348e5-d930-4328-faaf-5a6d9bc5948e"
   },
   "outputs": [
    {
     "name": "stdout",
     "output_type": "stream",
     "text": [
      "Training F1 Score: 92.20%\n",
      "Test F1 Score: 91.64%\n"
     ]
    }
   ],
   "source": [
    "# Calculate F1 score for training set\n",
    "y_train_pred = model.predict(X_train)\n",
    "train_f1 = f1_score(y_train, y_train_pred, average='weighted')\n",
    "\n",
    "# Calculate F1 score for test set\n",
    "y_test_pred = model.predict(X_test)\n",
    "test_f1 = f1_score(y_test, y_test_pred, average='weighted')\n",
    "\n",
    "print(f\"Training F1 Score: {train_f1*100:.2f}%\")\n",
    "print(f\"Test F1 Score: {test_f1*100:.2f}%\")\n",
    "\n",
    "# Check for overfitting\n",
    "if train_f1 - test_f1 > 0.1:  # threshold for overfitting\n",
    "    print(\"Warning: The model may be overfitting!\")"
   ]
  },
  {
   "cell_type": "code",
   "execution_count": 44,
   "metadata": {
    "executionInfo": {
     "elapsed": 25,
     "status": "ok",
     "timestamp": 1738351762744,
     "user": {
      "displayName": "Shahbaz Ahmed",
      "userId": "03124141683529273044"
     },
     "user_tz": -300
    },
    "id": "NTNSMrio_BvD"
   },
   "outputs": [],
   "source": [
    "def recommend_books(predicted_genre, df_resampled, top_n=5):\n",
    "    recommended_book = df_resampled[df_resampled['Genre_2'] == predicted_genre].sample(top_n)\n",
    "    return recommended_book[['Title','Book-Author','Image-URL-L']]"
   ]
  },
  {
   "cell_type": "code",
   "execution_count": 45,
   "metadata": {
    "colab": {
     "base_uri": "https://localhost:8080/",
     "height": 223
    },
    "executionInfo": {
     "elapsed": 24,
     "status": "ok",
     "timestamp": 1738351762744,
     "user": {
      "displayName": "Shahbaz Ahmed",
      "userId": "03124141683529273044"
     },
     "user_tz": -300
    },
    "id": "2tzPSrJb4goZ",
    "outputId": "7df90ce9-38d3-4a0b-d618-524057a87398"
   },
   "outputs": [
    {
     "name": "stdout",
     "output_type": "stream",
     "text": [
      "Historical\n"
     ]
    },
    {
     "data": {
      "text/html": [
       "<div>\n",
       "<style scoped>\n",
       "    .dataframe tbody tr th:only-of-type {\n",
       "        vertical-align: middle;\n",
       "    }\n",
       "\n",
       "    .dataframe tbody tr th {\n",
       "        vertical-align: top;\n",
       "    }\n",
       "\n",
       "    .dataframe thead th {\n",
       "        text-align: right;\n",
       "    }\n",
       "</style>\n",
       "<table border=\"1\" class=\"dataframe\">\n",
       "  <thead>\n",
       "    <tr style=\"text-align: right;\">\n",
       "      <th></th>\n",
       "      <th>Title</th>\n",
       "      <th>Book-Author</th>\n",
       "      <th>Image-URL-L</th>\n",
       "    </tr>\n",
       "  </thead>\n",
       "  <tbody>\n",
       "    <tr>\n",
       "      <th>114688</th>\n",
       "      <td>Brazil</td>\n",
       "      <td>John Malathronas</td>\n",
       "      <td>http://images.amazon.com/images/P/1840243503.0...</td>\n",
       "    </tr>\n",
       "    <tr>\n",
       "      <th>114261</th>\n",
       "      <td>Second Contact (Colonization, Book 1)</td>\n",
       "      <td>Harry Turtledove</td>\n",
       "      <td>http://images.amazon.com/images/P/0345430190.0...</td>\n",
       "    </tr>\n",
       "    <tr>\n",
       "      <th>115044</th>\n",
       "      <td>Silk</td>\n",
       "      <td>Alessandro Baricco</td>\n",
       "      <td>http://images.amazon.com/images/P/1860463665.0...</td>\n",
       "    </tr>\n",
       "    <tr>\n",
       "      <th>114528</th>\n",
       "      <td>Lady of the Forest</td>\n",
       "      <td>Jennifer Roberson</td>\n",
       "      <td>http://images.amazon.com/images/P/0821742841.0...</td>\n",
       "    </tr>\n",
       "    <tr>\n",
       "      <th>115325</th>\n",
       "      <td>Grace</td>\n",
       "      <td>Michael Stewart</td>\n",
       "      <td>http://images.amazon.com/images/P/0871133059.0...</td>\n",
       "    </tr>\n",
       "  </tbody>\n",
       "</table>\n",
       "</div>"
      ],
      "text/plain": [
       "                                        Title         Book-Author  \\\n",
       "114688                                 Brazil    John Malathronas   \n",
       "114261  Second Contact (Colonization, Book 1)    Harry Turtledove   \n",
       "115044                                   Silk  Alessandro Baricco   \n",
       "114528                     Lady of the Forest   Jennifer Roberson   \n",
       "115325                                  Grace     Michael Stewart   \n",
       "\n",
       "                                              Image-URL-L  \n",
       "114688  http://images.amazon.com/images/P/1840243503.0...  \n",
       "114261  http://images.amazon.com/images/P/0345430190.0...  \n",
       "115044  http://images.amazon.com/images/P/1860463665.0...  \n",
       "114528  http://images.amazon.com/images/P/0821742841.0...  \n",
       "115325  http://images.amazon.com/images/P/0871133059.0...  "
      ]
     },
     "execution_count": 45,
     "metadata": {},
     "output_type": "execute_result"
    }
   ],
   "source": [
    "new_description =\"Vikram Seth's novel is, at its core, a love story: Lata and her mother, Mrs. Rupa Mehra, are both trying to find—through love or through exacting maternal appraisal—a suitable boy for Lata to marry. Set in the early 1950s, in an India newly independent and struggling through a time of crisis, A Suitable Boy takes us into the richly imagined world of four large extended families and spins a compulsively readable tale of their lives and loves. A sweeping panoramic portrait of a complex, multiethnic society in flux, A Suitable Boy remains the story of ordinary people caught up in a web of love and ambition, humor and sadness, prejudice and reconciliation, the most delicate social etiquette and the most appalling violence.\"\n",
    "new_description_processed = clean_description(new_description)\n",
    "new_description_vectorized = vectorizer.transform([new_description_processed])\n",
    "predicted_label = model.predict(new_description_vectorized)\n",
    "predicted_genre = le.inverse_transform([predicted_label[0]])  # Convert back to original genre\n",
    "print(predicted_genre[0])\n",
    "recommend_books(predicted_genre[0], df_resampled)"
   ]
  },
  {
   "cell_type": "code",
   "execution_count": 46,
   "metadata": {
    "executionInfo": {
     "elapsed": 16,
     "status": "ok",
     "timestamp": 1738351762744,
     "user": {
      "displayName": "Shahbaz Ahmed",
      "userId": "03124141683529273044"
     },
     "user_tz": -300
    },
    "id": "_rDviaFoDIW-"
   },
   "outputs": [],
   "source": [
    "import pickle"
   ]
  },
  {
   "cell_type": "code",
   "execution_count": 48,
   "metadata": {
    "executionInfo": {
     "elapsed": 660,
     "status": "ok",
     "timestamp": 1738351789440,
     "user": {
      "displayName": "Shahbaz Ahmed",
      "userId": "03124141683529273044"
     },
     "user_tz": -300
    },
    "id": "AAAFVHjoFl2A"
   },
   "outputs": [],
   "source": [
    "pickle.dump(model, open('Model/model.pkl', 'wb'))\n",
    "pickle.dump(vectorizer, open('Model/vectorizer.pkl', 'wb'))\n",
    "pickle.dump(le, open('Model/le.pkl', 'wb'))\n",
    "pickle.dump(df_resampled, open('Model/df_resampled.pkl', 'wb'))"
   ]
  }
 ],
 "metadata": {
  "colab": {
   "authorship_tag": "ABX9TyO/n+4xxDnno9pUGkLIMH1v",
   "mount_file_id": "1eAqo9GCrCkTP2oaJrvyVbadIhZ5Iffbz",
   "provenance": []
  },
  "kernelspec": {
   "display_name": "base",
   "language": "python",
   "name": "python3"
  },
  "language_info": {
   "codemirror_mode": {
    "name": "ipython",
    "version": 3
   },
   "file_extension": ".py",
   "mimetype": "text/x-python",
   "name": "python",
   "nbconvert_exporter": "python",
   "pygments_lexer": "ipython3",
   "version": "3.12.7"
  }
 },
 "nbformat": 4,
 "nbformat_minor": 0
}
